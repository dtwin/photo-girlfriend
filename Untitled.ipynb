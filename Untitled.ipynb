{
 "cells": [
  {
   "cell_type": "code",
   "execution_count": 2,
   "metadata": {},
   "outputs": [
    {
     "ename": "SyntaxError",
     "evalue": "invalid syntax (<ipython-input-2-1f599c603bb9>, line 19)",
     "output_type": "error",
     "traceback": [
      "\u001b[1;36m  File \u001b[1;32m\"<ipython-input-2-1f599c603bb9>\"\u001b[1;36m, line \u001b[1;32m19\u001b[0m\n\u001b[1;33m    img = img.convert(\"RGB\")#把图片强制转成RGB\u001b[0m\n\u001b[1;37m      ^\u001b[0m\n\u001b[1;31mSyntaxError\u001b[0m\u001b[1;31m:\u001b[0m invalid syntax\n"
     ]
    }
   ],
   "source": [
    "from PIL import Image\n",
    " \n",
    "img = Image.open(\"./resize/1.jpg\")#读取系统的内照片\n",
    "\n",
    "\n",
    "npixels = image.size[0] * image.size[1]\n",
    "cols = image.getcolors(npixels)\n",
    "sumRGB = [(x[0] * x[1][0], x[0] * x[1][1], x[0] * x[1][2]) for x in cols]\n",
    "a = tuple([int(sum(x) / npixels) for x in zip(*sumRGB)])\n",
    "\n",
    "width = img.size[0]#长度\n",
    "height = img.size[1]#宽度\n",
    "r,g,b = pix[i,j]\n",
    "for i in range(0,width):#遍历所有长度的点    \n",
    "    for j in range(0,height):#遍历所有宽度的点\n",
    "        img.putpixel((i,j),(abs(r-a[0]),abs(g-a[1]),abs(b-a[2]))\n",
    "img = img.convert(\"RGB\")#把图片强制转成RGB\n",
    "img.save(\"./1.jpg\")#保存修改像素点后的图片\n"
   ]
  },
  {
   "cell_type": "code",
   "execution_count": null,
   "metadata": {},
   "outputs": [],
   "source": []
  }
 ],
 "metadata": {
  "kernelspec": {
   "display_name": "Python 3",
   "language": "python",
   "name": "python3"
  },
  "language_info": {
   "codemirror_mode": {
    "name": "ipython",
    "version": 3
   },
   "file_extension": ".py",
   "mimetype": "text/x-python",
   "name": "python",
   "nbconvert_exporter": "python",
   "pygments_lexer": "ipython3",
   "version": "3.7.3"
  }
 },
 "nbformat": 4,
 "nbformat_minor": 2
}

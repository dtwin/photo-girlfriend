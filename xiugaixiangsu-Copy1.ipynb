{
 "cells": [
  {
   "cell_type": "code",
   "execution_count": 7,
   "metadata": {},
   "outputs": [
    {
     "name": "stdout",
     "output_type": "stream",
     "text": [
      "128\n",
      "128\n"
     ]
    }
   ],
   "source": [
    "import argparse\n",
    "import os\n",
    "import numpy as np\n",
    "from PIL import Image\n",
    "import os.path\n",
    "import glob\n",
    "import os.path\n",
    "import glob\n",
    "\n",
    "\n",
    "\n",
    "\n",
    "\n",
    "img = Image.open(\"./resize/1.jpg\")#读取系统的内照片\n",
    "npixels = img.size[0] * img.size[1]\n",
    "cols = img.getcolors(npixels)\n",
    "sumRGB = [(x[0] * x[1][0], x[0] * x[1][1], x[0] * x[1][2]) for x in cols]\n",
    "a = tuple([int(sum(x) / npixels) for x in zip(*sumRGB)])\n",
    "\n",
    "pix = img.load()\n",
    "\n",
    "width = img.size[0]#长度\n",
    "height = img.size[1]#宽度\n",
    "print(width)\n",
    "print(height)\n",
    "\n",
    "for i in range(0,width):#遍历所有长度的点\n",
    "    \n",
    "    for j in range(0,height):#遍历所有宽度的点\n",
    "        r,g,b = pix[i,j]\n",
    "        img.putpixel((i,j),(abs(r-a[0]),abs(g-a[1]),abs(b-a[2])))\n",
    "        \n",
    "            \n",
    "#img = img.convert(\"RGB\")#把图片强制转成RGB\n",
    "img.save(\"./1.jpg\")#保存修改像素点后的图片\n",
    "print(\"ok\")\n"
   ]
  },
  {
   "cell_type": "code",
   "execution_count": null,
   "metadata": {},
   "outputs": [],
   "source": []
  }
 ],
 "metadata": {
  "kernelspec": {
   "display_name": "Python 3",
   "language": "python",
   "name": "python3"
  },
  "language_info": {
   "codemirror_mode": {
    "name": "ipython",
    "version": 3
   },
   "file_extension": ".py",
   "mimetype": "text/x-python",
   "name": "python",
   "nbconvert_exporter": "python",
   "pygments_lexer": "ipython3",
   "version": "3.7.3"
  }
 },
 "nbformat": 4,
 "nbformat_minor": 2
}

{
 "cells": [
  {
   "cell_type": "code",
   "execution_count": 13,
   "metadata": {},
   "outputs": [
    {
     "name": "stdout",
     "output_type": "stream",
     "text": [
      "ok\n"
     ]
    }
   ],
   "source": [
    "from PIL import Image\n",
    "import os.path\n",
    "import glob\n",
    "def convertjpg(jpgfile,outdir,width=6000,height=6000):\n",
    "    img=Image.open(jpgfile)\n",
    "    try:\n",
    "        new_img = img.resize((width, height), Image.BILINEAR)\n",
    "        if new_img.mode == 'P':\n",
    "            new_img = new_img.convert(\"RGB\")\n",
    "        if new_img.mode == 'RGBA':\n",
    "            new_img = new_img.convert(\"RGB\")\n",
    "        new_img.save(os.path.join(outdir, os.path.basename(jpgfile)))\n",
    "    except Exception as e:\n",
    "        print(e)\n",
    "count=0\n",
    "\n",
    "    # print(jpgfile)\n",
    "convertjpg(\"./iloveu.jpg\",\"./resize\")\n",
    "print(\"ok\")\n"
   ]
  },
  {
   "cell_type": "code",
   "execution_count": null,
   "metadata": {},
   "outputs": [],
   "source": []
  },
  {
   "cell_type": "code",
   "execution_count": null,
   "metadata": {},
   "outputs": [],
   "source": []
  }
 ],
 "metadata": {
  "kernelspec": {
   "display_name": "Python 3",
   "language": "python",
   "name": "python3"
  },
  "language_info": {
   "codemirror_mode": {
    "name": "ipython",
    "version": 3
   },
   "file_extension": ".py",
   "mimetype": "text/x-python",
   "name": "python",
   "nbconvert_exporter": "python",
   "pygments_lexer": "ipython3",
   "version": "3.7.3"
  }
 },
 "nbformat": 4,
 "nbformat_minor": 2
}
